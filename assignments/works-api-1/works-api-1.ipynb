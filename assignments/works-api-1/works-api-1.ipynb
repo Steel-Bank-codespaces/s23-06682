{
 "cells": [
  {
   "cell_type": "markdown",
   "id": "1c0b2363",
   "metadata": {},
   "source": [
    "Before you turn this problem in, make sure everything runs as expected. First, **restart the kernel** (in the menubar, select Kernel$\\rightarrow$Restart) and then **run all cells** (in the menubar, select Cell$\\rightarrow$Run All).\n",
    "\n",
    "Make sure you fill in any place that says `YOUR CODE HERE` or \"YOUR ANSWER HERE\", as well as your name and collaborators below:\n",
    "\n"
   ]
  },
  {
   "cell_type": "code",
   "execution_count": null,
   "id": "7b508a8e",
   "metadata": {},
   "outputs": [],
   "source": [
    "NAME = \"\"\n",
    "COLLABORATORS = \"\"\n",
    "\n"
   ]
  },
  {
   "cell_type": "markdown",
   "id": "5a95978d",
   "metadata": {},
   "source": [
    "---\n",
    "\n"
   ]
  },
  {
   "cell_type": "markdown",
   "id": "0d58ec70-0431-4857-8412-fe270d836197",
   "metadata": {},
   "source": [
    "# Works API\n",
    "\n",
    "Go to https://docs.openalex.org/api-entities/works and read about the Works. Your task is to write a command line utility to print out the title and year of all papers that cite a particular paper. To get these, you have to get a url from the Works object to get a list of those papers, and then iterate through the results to print out each one.\n",
    "\n",
    "The paper you should use is https://api.openalex.org/works/https://doi.org/10.1021/acscatal.5b00538\n",
    "\n",
    "There are 18 citing papers.\n",
    "\n"
   ]
  },
  {
   "cell_type": "markdown",
   "id": "7fa558e1-a046-428d-b61d-3c3ac2ed38ea",
   "metadata": {},
   "source": [
    "# Write a shell script to do this\n",
    "\n",
    "When you are done, use a cell like the one below to show your script in this notebook.\n",
    "\n",
    "For example, do something like this.\n",
    "\n"
   ]
  },
  {
   "cell_type": "code",
   "execution_count": null,
   "id": "658ee40f-2190-4acd-bb23-b052c7e2d2d4",
   "metadata": {},
   "outputs": [],
   "source": [
    "! cat example.py\n",
    "\n"
   ]
  },
  {
   "cell_type": "markdown",
   "id": "bd69217e-aaf1-4984-88df-74725a2963ad",
   "metadata": {},
   "source": [
    "# Show that your script works in the notebook\n",
    "\n",
    "Run your script here to show the output\n",
    "\n",
    "For example:\n",
    "\n"
   ]
  },
  {
   "cell_type": "code",
   "execution_count": null,
   "id": "b7c10cb6-0f12-4524-9569-80d11c2a6bf8",
   "metadata": {},
   "outputs": [],
   "source": [
    "! ./example.py\n",
    "\n"
   ]
  },
  {
   "cell_type": "code",
   "execution_count": null,
   "id": "ad546c67-31fd-4cee-ad8f-ec984ab13d2d",
   "metadata": {},
   "outputs": [],
   "source": [
    "\n",
    "\n"
   ]
  },
  {
   "cell_type": "code",
   "execution_count": 1,
   "id": "ea556875-4675-4905-a9cd-d33aa3c78f8a",
   "metadata": {},
   "outputs": [
    {
     "name": "stdout",
     "output_type": "stream",
     "text": [
      "using webpdf\n"
     ]
    },
    {
     "data": {
      "text/markdown": [
       "[Open works-api-1.pdf](works-api-1.pdf)"
      ],
      "text/plain": [
       "<IPython.core.display.Markdown object>"
      ]
     },
     "metadata": {},
     "output_type": "display_data"
    },
    {
     "data": {
      "text/html": [
       "from webpdf<br><a href=\"works-api-1.pdf\" download=\"works-api-1.pdf\">download works-api-1.pdf</a>"
      ],
      "text/plain": [
       "<IPython.core.display.HTML object>"
      ]
     },
     "metadata": {},
     "output_type": "display_data"
    }
   ],
   "source": [
    "# Run this cell to generate a pdf from this notebook\n",
    "# Click the generated links to preview and download it.\n",
    "# Report errors to Professor Kitchin\n",
    "from s23 import pdf\n",
    "%pdf\n",
    "\n"
   ]
  },
  {
   "cell_type": "code",
   "execution_count": null,
   "id": "0b7dd3a9-7135-41e2-b8b5-711754a0e729",
   "metadata": {},
   "outputs": [],
   "source": []
  }
 ],
 "metadata": {
  "kernelspec": {
   "display_name": "Python 3",
   "language": "python",
   "name": "python3"
  },
  "language_info": {
   "codemirror_mode": {
    "name": "ipython",
    "version": 3
   },
   "file_extension": ".py",
   "mimetype": "text/x-python",
   "name": "python",
   "nbconvert_exporter": "python",
   "pygments_lexer": "ipython3",
   "version": "3.9.7"
  },
  "widgets": {
   "application/vnd.jupyter.widget-state+json": {
    "state": {},
    "version_major": 2,
    "version_minor": 0
   }
  }
 },
 "nbformat": 4,
 "nbformat_minor": 5
}
